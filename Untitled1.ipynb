{
 "cells": [
  {
   "cell_type": "code",
   "execution_count": 1,
   "id": "d556b58e",
   "metadata": {},
   "outputs": [],
   "source": [
    "from tensorflow.compat.v1 import ConfigProto\n",
    "from tensorflow.compat.v1 import InteractiveSession\n",
    "\n",
    "config = ConfigProto()\n",
    "config.gpu_options.per_process_gpu_memory_fraction = 0.5\n",
    "config.gpu_options.allow_growth = True"
   ]
  },
  {
   "cell_type": "code",
   "execution_count": 2,
   "id": "08269896",
   "metadata": {},
   "outputs": [
    {
     "name": "stderr",
     "output_type": "stream",
     "text": [
      "Using TensorFlow backend.\n"
     ]
    }
   ],
   "source": [
    "import numpy as np\n",
    "#from numpy.core.defchararray import translate\n",
    "import pandas as pd\n",
    "import os\n",
    "import cv2\n",
    "import random\n",
    "import matplotlib.pyplot as plt\n",
    "from sklearn.utils import shuffle\n",
    "import matplotlib.image as mpimg\n",
    "from imgaug import augmenters as iaa\n",
    "from keras.models import Sequential\n",
    "from keras.layers import Convolution2D,Flatten,Dense\n",
    "from keras.optimizers import Adam\n",
    "from sklearn.model_selection import train_test_split\n",
    "import time\n",
    "from keras.models import load_model"
   ]
  },
  {
   "cell_type": "code",
   "execution_count": 3,
   "id": "d5b06073",
   "metadata": {},
   "outputs": [
    {
     "name": "stdout",
     "output_type": "stream",
     "text": [
      "Total Images Imported 8210\n"
     ]
    }
   ],
   "source": [
    "#used to get only last name of the path\n",
    "def getName(filepath):\n",
    "    return filepath.split('\\\\')[-1]\n",
    "def importDataInfo(path):\n",
    "    columns = ['Center', 'Left', 'Right', 'Steering', 'Throttle', 'Brake', 'Speed']\n",
    "    data = pd.read_csv(os.path.join(path, 'driving_log.csv'), names = columns)\n",
    "    #### REMOVE FILE PATH AND GET ONLY FILE NAME\n",
    "    #print(getName(data['center'][0]))\n",
    "    data['Center']=data['Center'].apply(getName)\n",
    "    #print(data.head())\n",
    "    print('Total Images Imported',data.shape[0])\n",
    "    return data\n",
    "path =\"C:/Users/Balaji/Documents/Machine Learning/Deep Learning/Self Driving cars/abc\"\n",
    "data = importDataInfo(path)"
   ]
  },
  {
   "cell_type": "code",
   "execution_count": 4,
   "id": "1053dad1",
   "metadata": {},
   "outputs": [
    {
     "data": {
      "image/png": "[encoded data removed]",
      "text/plain": [
       "<Figure size 432x288 with 1 Axes>"
      ]
     },
     "metadata": {
      "needs_background": "light"
     },
     "output_type": "display_data"
    },
    {
     "name": "stdout",
     "output_type": "stream",
     "text": [
      "Removed Images: 5640\n",
      "Remaining Images: 2570\n"
     ]
    },
    {
     "data": {
      "image/png": "[encoded data removed]",
      "text/plain": [
       "<Figure size 432x288 with 1 Axes>"
      ]
     },
     "metadata": {
      "needs_background": "light"
     },
     "output_type": "display_data"
    }
   ],
   "source": [
    "def balanceData(data,display=True):\n",
    "    nBin = 31\n",
    "    samplesPerBin = 1000\n",
    "    hist, bins = np.histogram(data['Steering'], nBin)\n",
    "    if display:\n",
    "        center = (bins[:-1] + bins[1:]) * 0.5\n",
    "        plt.bar(center, hist, width=0.06)\n",
    "        plt.plot((np.min(data['Steering']), np.max(data['Steering'])), (samplesPerBin, samplesPerBin))\n",
    "        plt.show()\n",
    "    removeindexList = []\n",
    "    for j in range(nBin):\n",
    "        binDataList = []\n",
    "        for i in range(len(data['Steering'])):\n",
    "            if data['Steering'][i] >= bins[j] and data['Steering'][i] <= bins[j + 1]:\n",
    "                binDataList.append(i)\n",
    "        binDataList = shuffle(binDataList)\n",
    "        binDataList = binDataList[samplesPerBin:]\n",
    "        removeindexList.extend(binDataList)\n",
    " \n",
    "    print('Removed Images:', len(removeindexList))\n",
    "    data.drop(data.index[removeindexList], inplace=True)\n",
    "    print('Remaining Images:', len(data))\n",
    "    if display:\n",
    "        hist, _ = np.histogram(data['Steering'], (nBin))\n",
    "        plt.bar(center, hist, width=0.06)\n",
    "        plt.plot((np.min(data['Steering']), np.max(data['Steering'])), (samplesPerBin, samplesPerBin))\n",
    "        plt.show()\n",
    "    #data = balanceData(data,display=False)    \n",
    "    return data\n",
    "data = balanceData(data,display=True)"
   ]
  },
  {
   "cell_type": "code",
   "execution_count": 5,
   "id": "c7a01bf9",
   "metadata": {},
   "outputs": [],
   "source": [
    "def loadData(path, data):\n",
    "    imagesPath = []\n",
    "    steering = []\n",
    "    for i in range(len(data)):\n",
    "        indexed_data = data.iloc[i]\n",
    "        imagesPath.append(os.path.join(path,'IMG',indexed_data[0]))\n",
    "        #imagesPath.append(f'{path}/IMG/{indexed_data[0]}')\n",
    "        steering.append(float(indexed_data[3]))\n",
    "    imagesPath = np.asarray(imagesPath)\n",
    "    steering = np.asarray(steering)\n",
    "    return imagesPath, steering\n",
    "imagePath,steering = loadData(path,data)"
   ]
  },
  {
   "cell_type": "code",
   "execution_count": 6,
   "id": "507661f8",
   "metadata": {},
   "outputs": [
    {
     "name": "stdout",
     "output_type": "stream",
     "text": [
      "Total training images: 2056\n",
      "Total validation images: 514\n"
     ]
    }
   ],
   "source": [
    "xtrain,xval,ytrain,yval = train_test_split(imagePath,steering,test_size=0.2,random_state=5)\n",
    "print(\"Total training images:\",len(xtrain))\n",
    "print(\"Total validation images:\",len(xval))"
   ]
  },
  {
   "cell_type": "code",
   "execution_count": 7,
   "id": "728a1f0b",
   "metadata": {},
   "outputs": [],
   "source": [
    "def augmentImage(imgPath,steering):\n",
    "    img =  mpimg.imread(imgPath)\n",
    "    if np.random.rand() < 0.5:\n",
    "        pan = iaa.Affine(translate_percent={\"x\": (-0.1, 0.1), \"y\": (-0.1, 0.1)})\n",
    "        img = pan.augment_image(img)\n",
    "    if np.random.rand() < 0.5:\n",
    "        zoom = iaa.Affine(scale=(1, 1.2))\n",
    "        img = zoom.augment_image(img)\n",
    "    if np.random.rand() < 0.5:\n",
    "        brightness = iaa.Multiply((0.2, 1.2))\n",
    "        img = brightness.augment_image(img)\n",
    "    if np.random.rand() < 0.5:\n",
    "        img = cv2.flip(img, 1)\n",
    "        steering = -steering\n",
    "    return img, steering"
   ]
  },
  {
   "cell_type": "code",
   "execution_count": 8,
   "id": "7912b35a",
   "metadata": {},
   "outputs": [],
   "source": [
    "def preProcess(img):\n",
    "    img = img[60:135,:,:]\n",
    "    img = cv2.cvtColor(img, cv2.COLOR_RGB2YUV)\n",
    "    img = cv2.GaussianBlur(img,  (3, 3), 0)\n",
    "    img = cv2.resize(img, (200, 66))\n",
    "    img = img/255\n",
    "    return img"
   ]
  },
  {
   "cell_type": "code",
   "execution_count": 9,
   "id": "8495a1e5",
   "metadata": {},
   "outputs": [],
   "source": [
    "def batchGen(imagesPath, steeringList, batchSize, trainFlag):\n",
    "    while True:\n",
    "        imgBatch = []\n",
    "        steeringBatch = []\n",
    " \n",
    "        for i in range(batchSize):\n",
    "            index = random.randint(0, len(imagesPath) - 1)\n",
    "            if trainFlag:\n",
    "                img, steering = augmentImage(imagesPath[index], steeringList[index])\n",
    "            else:\n",
    "                img = mpimg.imread(imagesPath[index])\n",
    "            steering = steeringList[index]\n",
    "            img = preProcess(img)\n",
    "            imgBatch.append(img)\n",
    "            steeringBatch.append(steering)\n",
    "            yield (np.asarray(imgBatch),np.asarray(steeringBatch))"
   ]
  },
  {
   "cell_type": "code",
   "execution_count": 10,
   "id": "435ceeea",
   "metadata": {},
   "outputs": [
    {
     "name": "stdout",
     "output_type": "stream",
     "text": [
      "Model: \"sequential_1\"\n",
      "_________________________________________________________________\n",
      "Layer (type)                 Output Shape              Param #   \n",
      "=================================================================\n",
      "conv2d_1 (Conv2D)            (None, 62, 196, 24)       1824      \n",
      "_________________________________________________________________\n",
      "conv2d_2 (Conv2D)            (None, 58, 192, 36)       21636     \n",
      "_________________________________________________________________\n",
      "conv2d_3 (Conv2D)            (None, 54, 188, 48)       43248     \n",
      "_________________________________________________________________\n",
      "conv2d_4 (Conv2D)            (None, 52, 186, 64)       27712     \n",
      "_________________________________________________________________\n",
      "conv2d_5 (Conv2D)            (None, 50, 184, 64)       36928     \n",
      "_________________________________________________________________\n",
      "flatten_1 (Flatten)          (None, 588800)            0         \n",
      "_________________________________________________________________\n",
      "dense_1 (Dense)              (None, 100)               58880100  \n",
      "_________________________________________________________________\n",
      "dense_2 (Dense)              (None, 50)                5050      \n",
      "_________________________________________________________________\n",
      "dense_3 (Dense)              (None, 10)                510       \n",
      "_________________________________________________________________\n",
      "dense_4 (Dense)              (None, 1)                 11        \n",
      "=================================================================\n",
      "Total params: 59,017,019\n",
      "Trainable params: 59,017,019\n",
      "Non-trainable params: 0\n",
      "_________________________________________________________________\n"
     ]
    }
   ],
   "source": [
    "def createModel():\n",
    "    model = Sequential()\n",
    "    #model.add(Conv2D(num_filters_conv1, kernel_size_conv1, \n",
    "                 #strides=stride_conv1, padding=padding_conv1, \n",
    "                 #activation='relu', input_shape=input_shape))\n",
    "    model.add(Convolution2D(24,(5,5),input_shape=(66,200,3),activation='elu'))\n",
    "    model.add(Convolution2D(36,(5,5),activation='elu'))\n",
    "    model.add(Convolution2D(48,(5,5),activation='elu'))\n",
    "    model.add(Convolution2D(64,(3,3),activation='elu'))\n",
    "    model.add(Convolution2D(64,(3,3),activation='elu'))\n",
    "    model.add(Flatten())\n",
    "    model.add(Dense(100,activation='elu'))\n",
    "    model.add(Dense(50,activation='elu'))\n",
    "    model.add(Dense(10,activation='elu'))\n",
    "    model.add(Dense(1))\n",
    "    model.compile(Adam(lr=0.0001),loss='mse')\n",
    "    return model\n",
    "\n",
    "model = createModel()\n",
    "model.summary()"
   ]
  },
  {
   "cell_type": "code",
   "execution_count": 11,
   "id": "78d5b356",
   "metadata": {},
   "outputs": [
    {
     "name": "stdout",
     "output_type": "stream",
     "text": [
      "Epoch 1/20\n",
      "300/300 [==============================] - 128s 427ms/step - loss: 3.0144 - val_loss: 0.0327\n",
      "Epoch 2/20\n",
      "300/300 [==============================] - 63s 210ms/step - loss: 0.0766 - val_loss: 0.1079\n",
      "Epoch 3/20\n",
      "300/300 [==============================] - 63s 210ms/step - loss: 0.0701 - val_loss: 0.0781\n",
      "Epoch 4/20\n",
      "300/300 [==============================] - 63s 209ms/step - loss: 0.0677 - val_loss: 0.0560\n",
      "Epoch 5/20\n",
      "300/300 [==============================] - 63s 209ms/step - loss: 0.0568 - val_loss: 0.0341\n",
      "Epoch 6/20\n",
      "300/300 [==============================] - 62s 208ms/step - loss: 0.0632 - val_loss: 0.0276\n",
      "Epoch 7/20\n",
      "300/300 [==============================] - 62s 208ms/step - loss: 0.0701 - val_loss: 0.0178\n",
      "Epoch 8/20\n",
      "300/300 [==============================] - 63s 211ms/step - loss: 0.0679 - val_loss: 0.0924\n",
      "Epoch 9/20\n",
      "300/300 [==============================] - 62s 206ms/step - loss: 0.0622 - val_loss: 0.0407\n",
      "Epoch 10/20\n",
      "300/300 [==============================] - 63s 210ms/step - loss: 0.0574 - val_loss: 0.0477\n",
      "Epoch 11/20\n",
      "300/300 [==============================] - 63s 210ms/step - loss: 0.0610 - val_loss: 0.0576\n",
      "Epoch 12/20\n",
      "300/300 [==============================] - 62s 208ms/step - loss: 0.0661 - val_loss: 0.0782\n",
      "Epoch 13/20\n",
      "300/300 [==============================] - 63s 210ms/step - loss: 0.0591 - val_loss: 0.1268\n",
      "Epoch 14/20\n",
      "300/300 [==============================] - 62s 208ms/step - loss: 0.0557 - val_loss: 0.0630\n",
      "Epoch 15/20\n",
      "300/300 [==============================] - 63s 209ms/step - loss: 0.0650 - val_loss: 0.0375\n",
      "Epoch 16/20\n",
      "300/300 [==============================] - 63s 211ms/step - loss: 0.0507 - val_loss: 0.0386\n",
      "Epoch 17/20\n",
      "300/300 [==============================] - 62s 206ms/step - loss: 0.0396 - val_loss: 0.0838\n",
      "Epoch 18/20\n",
      "300/300 [==============================] - 63s 209ms/step - loss: 0.0494 - val_loss: 0.0498\n",
      "Epoch 19/20\n",
      "300/300 [==============================] - 63s 209ms/step - loss: 0.0553 - val_loss: 0.1167\n",
      "Epoch 20/20\n",
      "300/300 [==============================] - 62s 208ms/step - loss: 0.0543 - val_loss: 0.0338\n"
     ]
    },
    {
     "data": {
      "text/plain": [
       "<keras.callbacks.callbacks.History at 0x2336c633128>"
      ]
     },
     "execution_count": 11,
     "metadata": {},
     "output_type": "execute_result"
    }
   ],
   "source": [
    "model.fit_generator(batchGen(xtrain,ytrain,32,1),\n",
    "                    validation_data=batchGen(xval,yval,32,0),\n",
    "                    epochs=20,\n",
    "                    steps_per_epoch=300,\n",
    "                    validation_steps=200)"
   ]
  },
  {
   "cell_type": "code",
   "execution_count": 12,
   "id": "1101e23a",
   "metadata": {},
   "outputs": [],
   "source": [
    "model.save('Car_Model.h5')"
   ]
  },
  {
   "cell_type": "code",
   "execution_count": null,
   "id": "d9327cd4",
   "metadata": {},
   "outputs": [],
   "source": []
  }
 ],
 "metadata": {
  "kernelspec": {
   "display_name": "Python 3",
   "language": "python",
   "name": "python3"
  },
  "language_info": {
   "codemirror_mode": {
    "name": "ipython",
    "version": 3
   },
   "file_extension": ".py",
   "mimetype": "text/x-python",
   "name": "python",
   "nbconvert_exporter": "python",
   "pygments_lexer": "ipython3",
   "version": "3.8.8"
  }
 },
 "nbformat": 4,
 "nbformat_minor": 5
}
